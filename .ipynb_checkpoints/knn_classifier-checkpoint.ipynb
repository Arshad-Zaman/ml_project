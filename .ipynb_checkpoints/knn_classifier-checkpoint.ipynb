{
 "cells": [
  {
   "cell_type": "code",
   "execution_count": 1,
   "id": "457222d8",
   "metadata": {},
   "outputs": [],
   "source": [
    "import numpy as np\n",
    "import pandas as pd\n",
    "import math"
   ]
  },
  {
   "cell_type": "code",
   "execution_count": 2,
   "id": "1563b0de",
   "metadata": {},
   "outputs": [],
   "source": [
    "dataset = pd.read_csv('./clean_datasets/TrainData1.txt', header= None, delim_whitespace=True) # delim_whitespace=True\n",
    "test_dataset = pd.read_csv('./clean_datasets/TestData1.txt', header= None, delim_whitespace=True)\n",
    "output = pd.read_csv('./datasets/TrainLabel1.txt', sep='\\n', header= None)"
   ]
  },
  {
   "cell_type": "code",
   "execution_count": 3,
   "id": "f143b138",
   "metadata": {},
   "outputs": [],
   "source": [
    "features = 3312\n",
    "x = dataset.iloc[:,0:features].values\n",
    "y = output.iloc[:,:1].values\n",
    "test = test_dataset.iloc[:,0:features]"
   ]
  },
  {
   "cell_type": "code",
   "execution_count": 4,
   "id": "024c780b",
   "metadata": {},
   "outputs": [
    {
     "data": {
      "text/html": [
       "<div>\n",
       "<style scoped>\n",
       "    .dataframe tbody tr th:only-of-type {\n",
       "        vertical-align: middle;\n",
       "    }\n",
       "\n",
       "    .dataframe tbody tr th {\n",
       "        vertical-align: top;\n",
       "    }\n",
       "\n",
       "    .dataframe thead th {\n",
       "        text-align: right;\n",
       "    }\n",
       "</style>\n",
       "<table border=\"1\" class=\"dataframe\">\n",
       "  <thead>\n",
       "    <tr style=\"text-align: right;\">\n",
       "      <th></th>\n",
       "      <th>0</th>\n",
       "      <th>1</th>\n",
       "      <th>2</th>\n",
       "      <th>3</th>\n",
       "      <th>4</th>\n",
       "      <th>5</th>\n",
       "      <th>6</th>\n",
       "      <th>7</th>\n",
       "      <th>8</th>\n",
       "      <th>9</th>\n",
       "      <th>...</th>\n",
       "      <th>3302</th>\n",
       "      <th>3303</th>\n",
       "      <th>3304</th>\n",
       "      <th>3305</th>\n",
       "      <th>3306</th>\n",
       "      <th>3307</th>\n",
       "      <th>3308</th>\n",
       "      <th>3309</th>\n",
       "      <th>3310</th>\n",
       "      <th>3311</th>\n",
       "    </tr>\n",
       "  </thead>\n",
       "  <tbody>\n",
       "    <tr>\n",
       "      <th>0</th>\n",
       "      <td>3.841106</td>\n",
       "      <td>1.732474</td>\n",
       "      <td>1.711807</td>\n",
       "      <td>2.415107</td>\n",
       "      <td>3.008562</td>\n",
       "      <td>3.068572</td>\n",
       "      <td>3.336568</td>\n",
       "      <td>3.475879</td>\n",
       "      <td>3.591656</td>\n",
       "      <td>3.705524</td>\n",
       "      <td>...</td>\n",
       "      <td>1.833975</td>\n",
       "      <td>1.874598</td>\n",
       "      <td>1.091497</td>\n",
       "      <td>2.136625</td>\n",
       "      <td>2.924662</td>\n",
       "      <td>2.018034</td>\n",
       "      <td>2.674641</td>\n",
       "      <td>1.888965</td>\n",
       "      <td>2.721975</td>\n",
       "      <td>1.879440</td>\n",
       "    </tr>\n",
       "    <tr>\n",
       "      <th>1</th>\n",
       "      <td>3.812389</td>\n",
       "      <td>2.126927</td>\n",
       "      <td>1.942529</td>\n",
       "      <td>2.591743</td>\n",
       "      <td>3.552610</td>\n",
       "      <td>3.294998</td>\n",
       "      <td>3.557571</td>\n",
       "      <td>3.606420</td>\n",
       "      <td>3.681815</td>\n",
       "      <td>3.661349</td>\n",
       "      <td>...</td>\n",
       "      <td>1.381205</td>\n",
       "      <td>1.433530</td>\n",
       "      <td>1.631495</td>\n",
       "      <td>2.155206</td>\n",
       "      <td>3.314882</td>\n",
       "      <td>1.729286</td>\n",
       "      <td>2.509639</td>\n",
       "      <td>2.238134</td>\n",
       "      <td>2.433794</td>\n",
       "      <td>1.815777</td>\n",
       "    </tr>\n",
       "    <tr>\n",
       "      <th>2</th>\n",
       "      <td>3.840183</td>\n",
       "      <td>1.897517</td>\n",
       "      <td>1.897517</td>\n",
       "      <td>2.412864</td>\n",
       "      <td>3.209561</td>\n",
       "      <td>3.181998</td>\n",
       "      <td>3.316767</td>\n",
       "      <td>3.520033</td>\n",
       "      <td>3.595931</td>\n",
       "      <td>3.613428</td>\n",
       "      <td>...</td>\n",
       "      <td>1.750740</td>\n",
       "      <td>1.778947</td>\n",
       "      <td>1.000000</td>\n",
       "      <td>2.165185</td>\n",
       "      <td>2.732659</td>\n",
       "      <td>1.707996</td>\n",
       "      <td>2.599151</td>\n",
       "      <td>2.182814</td>\n",
       "      <td>2.406421</td>\n",
       "      <td>2.022923</td>\n",
       "    </tr>\n",
       "    <tr>\n",
       "      <th>3</th>\n",
       "      <td>3.893489</td>\n",
       "      <td>2.065841</td>\n",
       "      <td>1.959947</td>\n",
       "      <td>2.606220</td>\n",
       "      <td>3.401351</td>\n",
       "      <td>3.545868</td>\n",
       "      <td>3.690366</td>\n",
       "      <td>3.254935</td>\n",
       "      <td>3.429752</td>\n",
       "      <td>3.637449</td>\n",
       "      <td>...</td>\n",
       "      <td>1.851543</td>\n",
       "      <td>1.847511</td>\n",
       "      <td>2.262593</td>\n",
       "      <td>2.061716</td>\n",
       "      <td>3.370104</td>\n",
       "      <td>1.757775</td>\n",
       "      <td>2.525770</td>\n",
       "      <td>1.000000</td>\n",
       "      <td>2.280373</td>\n",
       "      <td>1.610767</td>\n",
       "    </tr>\n",
       "    <tr>\n",
       "      <th>4</th>\n",
       "      <td>3.822854</td>\n",
       "      <td>1.644242</td>\n",
       "      <td>1.736715</td>\n",
       "      <td>2.404782</td>\n",
       "      <td>3.388622</td>\n",
       "      <td>3.304796</td>\n",
       "      <td>3.344968</td>\n",
       "      <td>3.480182</td>\n",
       "      <td>3.586667</td>\n",
       "      <td>3.603737</td>\n",
       "      <td>...</td>\n",
       "      <td>1.842047</td>\n",
       "      <td>1.754272</td>\n",
       "      <td>1.000000</td>\n",
       "      <td>2.146903</td>\n",
       "      <td>3.101072</td>\n",
       "      <td>1.907196</td>\n",
       "      <td>2.706820</td>\n",
       "      <td>1.997954</td>\n",
       "      <td>2.348733</td>\n",
       "      <td>2.112840</td>\n",
       "    </tr>\n",
       "  </tbody>\n",
       "</table>\n",
       "<p>5 rows × 3312 columns</p>\n",
       "</div>"
      ],
      "text/plain": [
       "       0         1         2         3         4         5         6     \\\n",
       "0  3.841106  1.732474  1.711807  2.415107  3.008562  3.068572  3.336568   \n",
       "1  3.812389  2.126927  1.942529  2.591743  3.552610  3.294998  3.557571   \n",
       "2  3.840183  1.897517  1.897517  2.412864  3.209561  3.181998  3.316767   \n",
       "3  3.893489  2.065841  1.959947  2.606220  3.401351  3.545868  3.690366   \n",
       "4  3.822854  1.644242  1.736715  2.404782  3.388622  3.304796  3.344968   \n",
       "\n",
       "       7         8         9     ...      3302      3303      3304      3305  \\\n",
       "0  3.475879  3.591656  3.705524  ...  1.833975  1.874598  1.091497  2.136625   \n",
       "1  3.606420  3.681815  3.661349  ...  1.381205  1.433530  1.631495  2.155206   \n",
       "2  3.520033  3.595931  3.613428  ...  1.750740  1.778947  1.000000  2.165185   \n",
       "3  3.254935  3.429752  3.637449  ...  1.851543  1.847511  2.262593  2.061716   \n",
       "4  3.480182  3.586667  3.603737  ...  1.842047  1.754272  1.000000  2.146903   \n",
       "\n",
       "       3306      3307      3308      3309      3310      3311  \n",
       "0  2.924662  2.018034  2.674641  1.888965  2.721975  1.879440  \n",
       "1  3.314882  1.729286  2.509639  2.238134  2.433794  1.815777  \n",
       "2  2.732659  1.707996  2.599151  2.182814  2.406421  2.022923  \n",
       "3  3.370104  1.757775  2.525770  1.000000  2.280373  1.610767  \n",
       "4  3.101072  1.907196  2.706820  1.997954  2.348733  2.112840  \n",
       "\n",
       "[5 rows x 3312 columns]"
      ]
     },
     "execution_count": 4,
     "metadata": {},
     "output_type": "execute_result"
    }
   ],
   "source": [
    "test.head()"
   ]
  },
  {
   "cell_type": "code",
   "execution_count": 5,
   "id": "89a1873e",
   "metadata": {},
   "outputs": [
    {
     "name": "stdout",
     "output_type": "stream",
     "text": [
      "11\n"
     ]
    }
   ],
   "source": [
    "n_neighbors = int(math.sqrt(len(x)))\n",
    "if n_neighbors % 2 == 0:\n",
    "    n_neighbors = n_neighbors-1\n",
    "else:\n",
    "    n_neighbors = n_neighbors\n",
    "print(n_neighbors)"
   ]
  },
  {
   "cell_type": "code",
   "execution_count": 6,
   "id": "a94517f0",
   "metadata": {},
   "outputs": [],
   "source": [
    "from sklearn.model_selection import train_test_split"
   ]
  },
  {
   "cell_type": "code",
   "execution_count": 7,
   "id": "8f21d05b",
   "metadata": {},
   "outputs": [],
   "source": [
    "x_train, x_test, y_train, y_test = train_test_split(x,y, test_size = .33, random_state=42)"
   ]
  },
  {
   "cell_type": "code",
   "execution_count": 8,
   "id": "199cfefd",
   "metadata": {},
   "outputs": [],
   "source": [
    "from sklearn.neighbors import KNeighborsClassifier"
   ]
  },
  {
   "cell_type": "code",
   "execution_count": 9,
   "id": "93eb8168",
   "metadata": {},
   "outputs": [],
   "source": [
    "KNN = KNeighborsClassifier(n_neighbors=n_neighbors,\n",
    "                          weights='uniform',\n",
    "                          algorithm='kd_tree',\n",
    "                          leaf_size=30,\n",
    "                          p=2,\n",
    "                          metric='minkowski',\n",
    "                          n_jobs=-1)"
   ]
  },
  {
   "cell_type": "code",
   "execution_count": 10,
   "id": "ec239601",
   "metadata": {},
   "outputs": [
    {
     "data": {
      "text/plain": [
       "KNeighborsClassifier(algorithm='kd_tree', n_jobs=-1, n_neighbors=11)"
      ]
     },
     "execution_count": 10,
     "metadata": {},
     "output_type": "execute_result"
    }
   ],
   "source": [
    "KNN"
   ]
  },
  {
   "cell_type": "code",
   "execution_count": 11,
   "id": "8adbc921",
   "metadata": {},
   "outputs": [
    {
     "data": {
      "text/plain": [
       "KNeighborsClassifier(algorithm='kd_tree', n_jobs=-1, n_neighbors=11)"
      ]
     },
     "execution_count": 11,
     "metadata": {},
     "output_type": "execute_result"
    }
   ],
   "source": [
    "KNN.fit(x_train, y_train.ravel())"
   ]
  },
  {
   "cell_type": "code",
   "execution_count": 12,
   "id": "be014647",
   "metadata": {},
   "outputs": [],
   "source": [
    "y_predict = KNN.predict(x_test)"
   ]
  },
  {
   "cell_type": "code",
   "execution_count": 13,
   "id": "87e02b60",
   "metadata": {},
   "outputs": [
    {
     "name": "stdout",
     "output_type": "stream",
     "text": [
      "[2 1 1 1 1 2 1 1 1 1 3 1 1 1 1 1 1 1 1 1 1 4 1 1 1 1 1 4 1 1 1 1 4 1 1 1 1\n",
      " 4 1 1 1 1 4 1 1 1 1 1 1 1 1 1 1]\n"
     ]
    }
   ],
   "source": [
    "test_prediction = KNN.predict(test)\n",
    "print(test_prediction)\n",
    "np.savetxt('./results/ZamanKurienClassification1.txt', test_prediction, fmt='%d', delimiter='\\n')"
   ]
  }
 ],
 "metadata": {
  "kernelspec": {
   "display_name": "Python 3 (ipykernel)",
   "language": "python",
   "name": "python3"
  },
  "language_info": {
   "codemirror_mode": {
    "name": "ipython",
    "version": 3
   },
   "file_extension": ".py",
   "mimetype": "text/x-python",
   "name": "python",
   "nbconvert_exporter": "python",
   "pygments_lexer": "ipython3",
   "version": "3.9.7"
  }
 },
 "nbformat": 4,
 "nbformat_minor": 5
}
