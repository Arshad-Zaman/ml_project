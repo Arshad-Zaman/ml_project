{
 "cells": [
  {
   "cell_type": "code",
   "execution_count": 1,
   "id": "457222d8",
   "metadata": {},
   "outputs": [],
   "source": [
    "import numpy as np\n",
    "import pandas as pd\n",
    "from sklearn.model_selection import train_test_split\n",
    "from sklearn.ensemble import RandomForestClassifier"
   ]
  },
  {
   "cell_type": "code",
   "execution_count": 2,
   "id": "4aa613a3",
   "metadata": {},
   "outputs": [],
   "source": [
    "def predict_labels(path_to_train_dataset, path_to_test_dataset, path_to_train_labels, path_to_save_location, features):\n",
    "    # load data into dataframes\n",
    "    dataset = pd.read_csv(path_to_train_dataset, header= None, delim_whitespace=True) # delim_whitespace=True\n",
    "    test_dataset = pd.read_csv(path_to_test_dataset, header= None, delim_whitespace=True)\n",
    "    output = pd.read_csv(path_to_train_labels, sep='\\n', header= None)\n",
    "    \n",
    "    # format dataframes\n",
    "    x = dataset.iloc[:,0:features].values\n",
    "    y = output.iloc[:,:1].values\n",
    "    test = test_dataset.iloc[:,0:features]\n",
    "    \n",
    "    # check head of test dataframe\n",
    "    test.head()\n",
    "    \n",
    "    # split data into 2/3 training and 1/3 testing\n",
    "    x_train, x_test, y_train, y_test = train_test_split(x,y, test_size=0.33, random_state=42)\n",
    "    \n",
    "    # train model\n",
    "    rfc = RandomForestClassifier()\n",
    "    rfc.fit(x_train, y_train.ravel())\n",
    "    \n",
    "    # predict test labels\n",
    "    y_predict = rfc.predict(x_test)\n",
    "    test_prediction = rfc.predict(test)\n",
    "    np.savetxt(path_to_save_location, test_prediction, fmt='%d', delimiter='\\n')\n"
   ]
  },
  {
   "cell_type": "code",
   "execution_count": 3,
   "id": "44a582a0",
   "metadata": {},
   "outputs": [],
   "source": [
    "# predict labels for dataset 2\n",
    "predict_labels(\"./datasets/TrainData2.txt\", \"./datasets/TestData2.txt\",\n",
    "               \"./datasets/TrainLabel2.txt\", \"./results/ZamanKurienClassification2.txt\", 9182)"
   ]
  },
  {
   "cell_type": "code",
   "execution_count": 4,
   "id": "ad6527e9",
   "metadata": {},
   "outputs": [],
   "source": [
    "# predict labels for dataset 4\n",
    "predict_labels(\"./datasets/TrainData4.txt\", \"./datasets/TestData4.txt\",\n",
    "               \"./datasets/TrainLabel4.txt\", \"./results/ZamanKurienClassification4.txt\", 112)"
   ]
  },
  {
   "cell_type": "code",
   "execution_count": 5,
   "id": "29984a5b",
   "metadata": {},
   "outputs": [],
   "source": [
    "# predict labels for dataset 5\n",
    "predict_labels(\"./datasets/TrainData5.txt\", \"./datasets/TestData5.txt\",\n",
    "               \"./datasets/TrainLabel5.txt\", \"./results/ZamanKurienClassification5.txt\", 11)"
   ]
  }
 ],
 "metadata": {
  "kernelspec": {
   "display_name": "Python 3 (ipykernel)",
   "language": "python",
   "name": "python3"
  },
  "language_info": {
   "codemirror_mode": {
    "name": "ipython",
    "version": 3
   },
   "file_extension": ".py",
   "mimetype": "text/x-python",
   "name": "python",
   "nbconvert_exporter": "python",
   "pygments_lexer": "ipython3",
   "version": "3.9.7"
  }
 },
 "nbformat": 4,
 "nbformat_minor": 5
}
