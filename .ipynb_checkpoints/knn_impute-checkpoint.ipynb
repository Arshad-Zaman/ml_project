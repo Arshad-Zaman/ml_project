{
 "cells": [
  {
   "cell_type": "code",
   "execution_count": 1,
   "id": "4995b3a0",
   "metadata": {},
   "outputs": [],
   "source": [
    "import math\n",
    "import pandas as pd\n",
    "import numpy as np\n",
    "from sklearn.impute import KNNImputer"
   ]
  },
  {
   "cell_type": "code",
   "execution_count": 2,
   "id": "2a52666f",
   "metadata": {},
   "outputs": [],
   "source": [
    "def replace_missing_values(path_to_file, path_where_to_save, num_features):\n",
    "    # load data into dataframes\n",
    "    df = pd.read_csv(path_to_file, na_values='1.00000000000000e+99', header=None, delim_whitespace=True)\n",
    "    df.columns\n",
    "    \n",
    "    # format dataframes\n",
    "    x = df.iloc[:,0:num_features]\n",
    "    print(\"Number of samples:\", len(x))\n",
    "    x.head()\n",
    "    \n",
    "    # calculate K with sqrt of length of samples rounded down to odd number\n",
    "    n_neighbors = int(math.sqrt(len(x)))\n",
    "    if n_neighbors % 2 == 0:\n",
    "        n_neighbors = n_neighbors-1\n",
    "    else:\n",
    "        n_neighbors = n_neighbors\n",
    "    print(\"K =\", n_neighbors)\n",
    "    \n",
    "    # print sum of na on each column\n",
    "    df.isna().sum()\n",
    "    \n",
    "    # run KNN imputer from scklearn\n",
    "    imputer = KNNImputer(n_neighbors=n_neighbors)\n",
    "    df_filled = imputer.fit_transform(df)\n",
    "    \n",
    "    # save file\n",
    "    print(df_filled)\n",
    "    np.savetxt(path_where_to_save, df_filled, fmt='%1.14f', delimiter='\\t')\n",
    "    \n",
    "def replace_missing_values_v2(path_to_file, path_where_to_save, num_features):\n",
    "    # load data into dataframes\n",
    "    df = pd.read_csv(path_to_file, na_values='1.00000000000000e+99', header=None, sep=',')\n",
    "    df.columns\n",
    "    \n",
    "    # format dataframes\n",
    "    x = df.iloc[:,0:num_features]\n",
    "    print(\"Number of samples:\", len(x))\n",
    "    x.head()\n",
    "    \n",
    "    # calculate K with sqrt of length of samples rounded down to odd number\n",
    "    n_neighbors = int(math.sqrt(len(x)))\n",
    "    if n_neighbors % 2 == 0:\n",
    "        n_neighbors = n_neighbors-1\n",
    "    else:\n",
    "        n_neighbors = n_neighbors\n",
    "    print(\"K =\", n_neighbors)\n",
    "    \n",
    "    # print sum of na on each column\n",
    "    df.isna().sum()\n",
    "    \n",
    "    # run KNN imputer from scklearn\n",
    "    imputer = KNNImputer(n_neighbors=n_neighbors)\n",
    "    df_filled = imputer.fit_transform(df)\n",
    "    \n",
    "    # save file\n",
    "    print(df_filled)\n",
    "    np.savetxt(path_where_to_save, df_filled, fmt='%1.14f', delimiter='\\t')"
   ]
  },
  {
   "cell_type": "code",
   "execution_count": 3,
   "id": "ac0d91b2",
   "metadata": {},
   "outputs": [
    {
     "name": "stdout",
     "output_type": "stream",
     "text": [
      "Number of samples: 150\n",
      "K = 11\n",
      "[[3.82425408 1.92376196 1.91844974 ... 2.46821436 2.47858092 2.30884176]\n",
      " [3.90418953 2.30952371 2.15293014 ... 2.05438321 2.6899035  2.09092785]\n",
      " [3.75090779 1.16106839 1.01703334 ... 1.44932409 2.6052296  1.36865871]\n",
      " ...\n",
      " [3.86019841 2.09777773 1.95185297 ... 1.         2.28254281 2.05570317]\n",
      " [3.90710165 1.         1.47363293 ... 1.         1.96848295 2.31850158]\n",
      " [3.76386656 2.2811925  2.19917903 ... 1.47334096 3.00529208 2.23279288]]\n"
     ]
    }
   ],
   "source": [
    "# missing value estimates for TrainData1\n",
    "replace_missing_values(\"./datasets/TrainData1.txt\", \"./clean_datasets/TrainData1.txt\", 3312)"
   ]
  },
  {
   "cell_type": "code",
   "execution_count": 4,
   "id": "ed04be02",
   "metadata": {},
   "outputs": [
    {
     "name": "stdout",
     "output_type": "stream",
     "text": [
      "Number of samples: 53\n",
      "K = 7\n",
      "[[3.84110595 1.73247418 1.71180723 ... 1.88896534 2.7219754  1.87943997]\n",
      " [3.81238855 2.12692651 1.94252889 ... 2.23813396 2.43379373 1.81577692]\n",
      " [3.84018265 1.89751713 1.89751713 ... 2.18281395 2.40642095 2.02292301]\n",
      " ...\n",
      " [3.82585695 2.05369294 1.77995705 ... 1.         2.2230804  2.18473401]\n",
      " [3.89021528 2.08601221 2.09363178 ... 1.         2.09645811 2.14185722]\n",
      " [3.79932056 1.63002085 1.63002085 ... 1.86616915 2.63344826 1.        ]]\n"
     ]
    }
   ],
   "source": [
    "# missing value estimates for TestData1\n",
    "replace_missing_values(\"./datasets/TestData1.txt\", \"./clean_datasets/TestData1.txt\", 3312)"
   ]
  },
  {
   "cell_type": "code",
   "execution_count": 5,
   "id": "7c351d78",
   "metadata": {},
   "outputs": [
    {
     "name": "stdout",
     "output_type": "stream",
     "text": [
      "Number of samples: 6300\n",
      "K = 79\n",
      "[[2.         1.         5.         ... 1.         7.         1.02531646]\n",
      " [1.         1.         5.         ... 1.         7.         1.        ]\n",
      " [2.         1.         3.         ... 3.         7.         1.        ]\n",
      " ...\n",
      " [2.         1.         4.         ... 1.         7.         1.        ]\n",
      " [1.         3.         3.         ... 1.         7.         1.        ]\n",
      " [1.         1.         2.         ... 3.         7.         1.        ]]\n"
     ]
    }
   ],
   "source": [
    "# missing value estimates for TrainData3\n",
    "replace_missing_values(\"./datasets/TrainData3.txt\", \"./clean_datasets/TrainData3.txt\", 13)"
   ]
  },
  {
   "cell_type": "code",
   "execution_count": 6,
   "id": "5a101ff4",
   "metadata": {},
   "outputs": [
    {
     "name": "stdout",
     "output_type": "stream",
     "text": [
      "Number of samples: 2693\n",
      "K = 51\n",
      "[[1. 5. 3. ... 1. 7. 1.]\n",
      " [2. 1. 4. ... 1. 7. 1.]\n",
      " [1. 5. 2. ... 1. 7. 1.]\n",
      " ...\n",
      " [2. 5. 1. ... 1. 7. 1.]\n",
      " [1. 1. 6. ... 3. 7. 1.]\n",
      " [1. 5. 3. ... 3. 5. 1.]]\n"
     ]
    }
   ],
   "source": [
    "# missing value estimates for TestData3\n",
    "replace_missing_values_v2(\"./datasets/TestData3.txt\", \"./clean_datasets/TestData3.txt\", 13)"
   ]
  },
  {
   "cell_type": "code",
   "execution_count": 7,
   "id": "1c35cd50",
   "metadata": {},
   "outputs": [
    {
     "name": "stdout",
     "output_type": "stream",
     "text": [
      "Number of samples: 242\n",
      "K = 15\n",
      "[[-0.11  0.02 -0.36 ...  0.08 -0.45  0.25]\n",
      " [-0.3  -0.37 -0.18 ...  0.31  0.4  -0.07]\n",
      " [ 0.5   0.18  0.41 ... -0.01 -0.28 -0.09]\n",
      " ...\n",
      " [ 1.31  0.05 -0.17 ... -0.06  0.21 -0.01]\n",
      " [ 0.34  0.03 -0.12 ... -0.14  0.12 -0.3 ]\n",
      " [-0.03 -0.03 -0.22 ...  0.21 -0.26  0.1 ]]\n"
     ]
    }
   ],
   "source": [
    "# missing value estimates for MissingData1.txt\n",
    "replace_missing_values(\"./datasets/MissingData1.txt\", \"./results/ZamanKurienMissingDataEstimation1.txt\", 242)"
   ]
  },
  {
   "cell_type": "code",
   "execution_count": 8,
   "id": "bcb1b65b",
   "metadata": {},
   "outputs": [
    {
     "name": "stdout",
     "output_type": "stream",
     "text": [
      "Number of samples: 758\n",
      "K = 27\n",
      "[[ 0.68872799 -0.21271986  0.49878314 ...  0.27281525  0.24299623\n",
      "   0.0446016 ]\n",
      " [ 0.34345852  0.11024161 -0.2191136  ... -0.15204121 -0.48716497\n",
      "  -0.60096978]\n",
      " [-0.738929   -0.10991489 -0.58472624 ... -0.18842155 -0.18041769\n",
      "  -0.22630141]\n",
      " ...\n",
      " [ 0.42922617  0.27817391  0.00507326 ...  0.19688787  0.16375493\n",
      "  -0.4069241 ]\n",
      " [ 0.24003554  0.11469736  0.05653686 ...  0.41545486  0.22499277\n",
      "  -0.44735631]\n",
      " [-0.34445147 -0.00562868 -0.4868051  ... -0.12193684 -0.16557833\n",
      "  -0.18063191]]\n"
     ]
    }
   ],
   "source": [
    "# missing value estimates for MissingData2.txt\n",
    "replace_missing_values(\"./datasets/MissingData2.txt\", \"./results/ZamanKurienMissingDataEstimation2.txt\", 50)"
   ]
  },
  {
   "cell_type": "code",
   "execution_count": 9,
   "id": "02f7abbc",
   "metadata": {},
   "outputs": [
    {
     "name": "stdout",
     "output_type": "stream",
     "text": [
      "Number of samples: 273\n",
      "K = 15\n",
      "[[10.14567746  4.35707143  6.4666     ... 10.67912679  9.24377854\n",
      "   9.01102386]\n",
      " [11.          4.35707143  6.4666     ... 10.67912679  9.24377854\n",
      "   9.01102386]\n",
      " [11.86170729  4.35707143  6.4666     ... 10.67912679  9.24377854\n",
      "   9.01102386]\n",
      " ...\n",
      " [ 5.65096898  4.35707143  6.4666     ... 10.67912679 11.999\n",
      "  10.28663476]\n",
      " [ 6.51763565  4.35707143  6.4666     ... 10.67912679 11.45219461\n",
      "   8.08179409]\n",
      " [ 6.38430232  4.35707143  6.4666     ... 10.67912679 11.999\n",
      "   9.62058641]]\n"
     ]
    }
   ],
   "source": [
    "# missing value estimates for MissingData3.txt\n",
    "replace_missing_values(\"./datasets/MissingData3.txt\", \"./results/ZamanKurienMissingDataEstimation3.txt\", 273)"
   ]
  }
 ],
 "metadata": {
  "kernelspec": {
   "display_name": "Python 3 (ipykernel)",
   "language": "python",
   "name": "python3"
  },
  "language_info": {
   "codemirror_mode": {
    "name": "ipython",
    "version": 3
   },
   "file_extension": ".py",
   "mimetype": "text/x-python",
   "name": "python",
   "nbconvert_exporter": "python",
   "pygments_lexer": "ipython3",
   "version": "3.9.7"
  }
 },
 "nbformat": 4,
 "nbformat_minor": 5
}
