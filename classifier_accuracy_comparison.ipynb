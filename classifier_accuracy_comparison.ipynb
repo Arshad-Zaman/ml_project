{
 "cells": [
  {
   "cell_type": "code",
   "execution_count": 1,
   "id": "457222d8",
   "metadata": {},
   "outputs": [],
   "source": [
    "import pandas as pd\n",
    "from sklearn.model_selection import train_test_split\n",
    "\n",
    "# machine learning model_pipeline\n",
    "from sklearn.svm import SVC\n",
    "from sklearn.neighbors import KNeighborsClassifier\n",
    "from sklearn.tree import DecisionTreeClassifier\n",
    "from sklearn.ensemble import RandomForestClassifier\n",
    "from sklearn.naive_bayes import GaussianNB\n",
    "\n",
    "# model evaluation\n",
    "from sklearn import metrics\n",
    "from sklearn.metrics import classification_report\n",
    "from sklearn.metrics import confusion_matrix"
   ]
  },
  {
   "cell_type": "code",
   "execution_count": 2,
   "id": "364a70f5",
   "metadata": {},
   "outputs": [],
   "source": [
    "def generate_accuracy_models(path_to_clean_train_data, path_to_clean_test_data, path_to_train_labels, num_features):\n",
    "    \"\"\"Load data into dataframes\"\"\"\n",
    "    dataset = pd.read_csv(path_to_clean_train_data, header= None, delim_whitespace=True) # delim_whitespace=True\n",
    "    test_dataset = pd.read_csv(path_to_clean_test_data, header= None, delim_whitespace=True)\n",
    "    output = pd.read_csv(path_to_train_labels, sep='\\n', header= None)\n",
    "    \n",
    "    \"\"\"Format dataframes\"\"\"\n",
    "    x = dataset.iloc[:,0:num_features].values\n",
    "    y = output.iloc[:,:1].values\n",
    "    test = test_dataset.iloc[:,0:num_features]\n",
    "    \n",
    "    test.head() # check if data is loaded properly\n",
    "    \n",
    "    x_train, x_test, y_train, y_test = train_test_split(x, y, test_size=0.33, random_state=42) # split training data\n",
    "    # 2/3 rds for training and 1/3 for testing\n",
    "    \n",
    "    # create pipeline for accuracy comparison\n",
    "    model_pipeline = []\n",
    "    model_pipeline.append(SVC())\n",
    "    model_pipeline.append(KNeighborsClassifier())\n",
    "    model_pipeline.append(DecisionTreeClassifier())\n",
    "    model_pipeline.append(RandomForestClassifier())\n",
    "    model_pipeline.append(GaussianNB())\n",
    "    \n",
    "    model_list = ['SVM', 'KNN', 'Decision Tree', 'Random Forest', 'Naive Bayes']\n",
    "    acc_list = []\n",
    "    cm_list = []\n",
    "    \n",
    "    # train the model and predict accuracy score using split training data\n",
    "    for model in model_pipeline:\n",
    "        model.fit(x_train, y_train.ravel())\n",
    "        y_pred = model.predict(x_test)\n",
    "        acc_list.append(metrics.accuracy_score(y_test, y_pred))\n",
    "        #cm_list.append(confusion_matrix(y_test, y_pred))\n",
    "        \n",
    "    result_df = pd.DataFrame({'Model' :model_list, 'Accuracy' : acc_list})\n",
    "    print(result_df)"
   ]
  },
  {
   "cell_type": "code",
   "execution_count": 3,
   "id": "2e1d2cf8",
   "metadata": {
    "scrolled": true
   },
   "outputs": [
    {
     "name": "stdout",
     "output_type": "stream",
     "text": [
      "Dataset 1 accuracy:\n",
      "           Model  Accuracy\n",
      "0            SVM      0.86\n",
      "1            KNN      0.94\n",
      "2  Decision Tree      0.80\n",
      "3  Random Forest      0.86\n",
      "4    Naive Bayes      0.84\n"
     ]
    }
   ],
   "source": [
    "print(\"Dataset 1 accuracy:\")\n",
    "generate_accuracy_models(\"./clean_datasets/TrainData1.txt\", \"./clean_datasets/TestData1.txt\",\n",
    "                         \"./datasets/TrainLabel1.txt\", 3312)"
   ]
  },
  {
   "cell_type": "code",
   "execution_count": 4,
   "id": "423eed80",
   "metadata": {},
   "outputs": [
    {
     "name": "stdout",
     "output_type": "stream",
     "text": [
      "Dataset 2 accuracy:\n",
      "           Model  Accuracy\n",
      "0            SVM  0.545455\n",
      "1            KNN  0.666667\n",
      "2  Decision Tree  0.545455\n",
      "3  Random Forest  0.757576\n",
      "4    Naive Bayes  0.727273\n"
     ]
    }
   ],
   "source": [
    "print(\"Dataset 2 accuracy:\")\n",
    "generate_accuracy_models(\"./datasets/TrainData2.txt\", \"./datasets/TestData2.txt\",\n",
    "                         \"./datasets/TrainLabel2.txt\", 9182)"
   ]
  },
  {
   "cell_type": "code",
   "execution_count": 5,
   "id": "a1dcb55f",
   "metadata": {
    "scrolled": true
   },
   "outputs": [
    {
     "name": "stdout",
     "output_type": "stream",
     "text": [
      "Dataset 3 accuracy:\n",
      "           Model  Accuracy\n",
      "0            SVM  0.351611\n",
      "1            KNN  0.312169\n",
      "2  Decision Tree  0.259259\n",
      "3  Random Forest  0.303030\n",
      "4    Naive Bayes  0.297258\n"
     ]
    }
   ],
   "source": [
    "print(\"Dataset 3 accuracy:\")\n",
    "generate_accuracy_models(\"./clean_datasets/TrainData3.txt\", \"./clean_datasets/TestData3.txt\",\n",
    "                         \"./datasets/TrainLabel3.txt\", 13)"
   ]
  },
  {
   "cell_type": "code",
   "execution_count": 6,
   "id": "c7c59bcc",
   "metadata": {},
   "outputs": [
    {
     "name": "stdout",
     "output_type": "stream",
     "text": [
      "Dataset 4 accuracy:\n",
      "           Model  Accuracy\n",
      "0            SVM  0.753864\n",
      "1            KNN  0.717004\n",
      "2  Decision Tree  0.833532\n",
      "3  Random Forest  0.956005\n",
      "4    Naive Bayes  0.514863\n"
     ]
    }
   ],
   "source": [
    "print(\"Dataset 4 accuracy:\")\n",
    "generate_accuracy_models(\"./datasets/TrainData4.txt\", \"./datasets/TestData4.txt\",\n",
    "                         \"./datasets/TrainLabel4.txt\", 112)"
   ]
  },
  {
   "cell_type": "code",
   "execution_count": 7,
   "id": "9bdb591b",
   "metadata": {},
   "outputs": [
    {
     "name": "stdout",
     "output_type": "stream",
     "text": [
      "Dataset 2 accuracy:\n",
      "           Model  Accuracy\n",
      "0            SVM  0.481081\n",
      "1            KNN  0.481081\n",
      "2  Decision Tree  0.602703\n",
      "3  Random Forest  0.667568\n",
      "4    Naive Bayes  0.516216\n"
     ]
    }
   ],
   "source": [
    "print(\"Dataset 2 accuracy:\")\n",
    "generate_accuracy_models(\"./datasets/TrainData5.txt\", \"./datasets/TestData5.txt\",\n",
    "                         \"./datasets/TrainLabel5.txt\", 11)"
   ]
  }
 ],
 "metadata": {
  "kernelspec": {
   "display_name": "Python 3 (ipykernel)",
   "language": "python",
   "name": "python3"
  },
  "language_info": {
   "codemirror_mode": {
    "name": "ipython",
    "version": 3
   },
   "file_extension": ".py",
   "mimetype": "text/x-python",
   "name": "python",
   "nbconvert_exporter": "python",
   "pygments_lexer": "ipython3",
   "version": "3.9.7"
  }
 },
 "nbformat": 4,
 "nbformat_minor": 5
}
